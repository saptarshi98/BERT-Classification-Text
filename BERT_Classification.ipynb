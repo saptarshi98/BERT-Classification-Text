{
  "cells": [
    {
      "cell_type": "code",
      "execution_count": null,
      "metadata": {
        "colab": {
          "base_uri": "https://localhost:8080/"
        },
        "id": "x60LP6Wvt6WG",
        "outputId": "e5d00e9e-c901-4f97-f0b2-19d1888fcd25"
      },
      "outputs": [
        {
          "output_type": "stream",
          "name": "stdout",
          "text": [
            "Looking in indexes: https://pypi.org/simple, https://us-python.pkg.dev/colab-wheels/public/simple/\n",
            "Collecting tensorflow_text\n",
            "  Downloading tensorflow_text-2.10.0-cp37-cp37m-manylinux_2_17_x86_64.manylinux2014_x86_64.whl (5.9 MB)\n",
            "\u001b[K     |████████████████████████████████| 5.9 MB 19.7 MB/s \n",
            "\u001b[?25hCollecting tensorflow<2.11,>=2.10.0\n",
            "  Downloading tensorflow-2.10.0-cp37-cp37m-manylinux_2_17_x86_64.manylinux2014_x86_64.whl (578.0 MB)\n",
            "\u001b[K     |████████████████████████████████| 578.0 MB 16 kB/s \n",
            "\u001b[?25hRequirement already satisfied: tensorflow-hub>=0.8.0 in /usr/local/lib/python3.7/dist-packages (from tensorflow_text) (0.12.0)\n",
            "Requirement already satisfied: termcolor>=1.1.0 in /usr/local/lib/python3.7/dist-packages (from tensorflow<2.11,>=2.10.0->tensorflow_text) (1.1.0)\n",
            "Requirement already satisfied: packaging in /usr/local/lib/python3.7/dist-packages (from tensorflow<2.11,>=2.10.0->tensorflow_text) (21.3)\n",
            "Requirement already satisfied: protobuf<3.20,>=3.9.2 in /usr/local/lib/python3.7/dist-packages (from tensorflow<2.11,>=2.10.0->tensorflow_text) (3.17.3)\n",
            "Requirement already satisfied: grpcio<2.0,>=1.24.3 in /usr/local/lib/python3.7/dist-packages (from tensorflow<2.11,>=2.10.0->tensorflow_text) (1.48.1)\n",
            "Requirement already satisfied: flatbuffers>=2.0 in /usr/local/lib/python3.7/dist-packages (from tensorflow<2.11,>=2.10.0->tensorflow_text) (2.0.7)\n",
            "Requirement already satisfied: h5py>=2.9.0 in /usr/local/lib/python3.7/dist-packages (from tensorflow<2.11,>=2.10.0->tensorflow_text) (3.1.0)\n",
            "Requirement already satisfied: opt-einsum>=2.3.2 in /usr/local/lib/python3.7/dist-packages (from tensorflow<2.11,>=2.10.0->tensorflow_text) (3.3.0)\n",
            "Requirement already satisfied: wrapt>=1.11.0 in /usr/local/lib/python3.7/dist-packages (from tensorflow<2.11,>=2.10.0->tensorflow_text) (1.14.1)\n",
            "Requirement already satisfied: six>=1.12.0 in /usr/local/lib/python3.7/dist-packages (from tensorflow<2.11,>=2.10.0->tensorflow_text) (1.15.0)\n",
            "Requirement already satisfied: setuptools in /usr/local/lib/python3.7/dist-packages (from tensorflow<2.11,>=2.10.0->tensorflow_text) (57.4.0)\n",
            "Collecting keras<2.11,>=2.10.0\n",
            "  Downloading keras-2.10.0-py2.py3-none-any.whl (1.7 MB)\n",
            "\u001b[K     |████████████████████████████████| 1.7 MB 59.8 MB/s \n",
            "\u001b[?25hRequirement already satisfied: google-pasta>=0.1.1 in /usr/local/lib/python3.7/dist-packages (from tensorflow<2.11,>=2.10.0->tensorflow_text) (0.2.0)\n",
            "Requirement already satisfied: typing-extensions>=3.6.6 in /usr/local/lib/python3.7/dist-packages (from tensorflow<2.11,>=2.10.0->tensorflow_text) (4.1.1)\n",
            "Requirement already satisfied: astunparse>=1.6.0 in /usr/local/lib/python3.7/dist-packages (from tensorflow<2.11,>=2.10.0->tensorflow_text) (1.6.3)\n",
            "Requirement already satisfied: numpy>=1.20 in /usr/local/lib/python3.7/dist-packages (from tensorflow<2.11,>=2.10.0->tensorflow_text) (1.21.6)\n",
            "Collecting tensorboard<2.11,>=2.10\n",
            "  Downloading tensorboard-2.10.0-py3-none-any.whl (5.9 MB)\n",
            "\u001b[K     |████████████████████████████████| 5.9 MB 50.6 MB/s \n",
            "\u001b[?25hRequirement already satisfied: libclang>=13.0.0 in /usr/local/lib/python3.7/dist-packages (from tensorflow<2.11,>=2.10.0->tensorflow_text) (14.0.6)\n",
            "Collecting tensorflow-estimator<2.11,>=2.10.0\n",
            "  Downloading tensorflow_estimator-2.10.0-py2.py3-none-any.whl (438 kB)\n",
            "\u001b[K     |████████████████████████████████| 438 kB 75.2 MB/s \n",
            "\u001b[?25hRequirement already satisfied: absl-py>=1.0.0 in /usr/local/lib/python3.7/dist-packages (from tensorflow<2.11,>=2.10.0->tensorflow_text) (1.2.0)\n",
            "Requirement already satisfied: tensorflow-io-gcs-filesystem>=0.23.1 in /usr/local/lib/python3.7/dist-packages (from tensorflow<2.11,>=2.10.0->tensorflow_text) (0.26.0)\n",
            "Collecting gast<=0.4.0,>=0.2.1\n",
            "  Downloading gast-0.4.0-py3-none-any.whl (9.8 kB)\n",
            "Requirement already satisfied: keras-preprocessing>=1.1.1 in /usr/local/lib/python3.7/dist-packages (from tensorflow<2.11,>=2.10.0->tensorflow_text) (1.1.2)\n",
            "Requirement already satisfied: wheel<1.0,>=0.23.0 in /usr/local/lib/python3.7/dist-packages (from astunparse>=1.6.0->tensorflow<2.11,>=2.10.0->tensorflow_text) (0.37.1)\n",
            "Requirement already satisfied: cached-property in /usr/local/lib/python3.7/dist-packages (from h5py>=2.9.0->tensorflow<2.11,>=2.10.0->tensorflow_text) (1.5.2)\n",
            "Requirement already satisfied: requests<3,>=2.21.0 in /usr/local/lib/python3.7/dist-packages (from tensorboard<2.11,>=2.10->tensorflow<2.11,>=2.10.0->tensorflow_text) (2.23.0)\n",
            "Requirement already satisfied: tensorboard-plugin-wit>=1.6.0 in /usr/local/lib/python3.7/dist-packages (from tensorboard<2.11,>=2.10->tensorflow<2.11,>=2.10.0->tensorflow_text) (1.8.1)\n",
            "Requirement already satisfied: google-auth<3,>=1.6.3 in /usr/local/lib/python3.7/dist-packages (from tensorboard<2.11,>=2.10->tensorflow<2.11,>=2.10.0->tensorflow_text) (1.35.0)\n",
            "Requirement already satisfied: werkzeug>=1.0.1 in /usr/local/lib/python3.7/dist-packages (from tensorboard<2.11,>=2.10->tensorflow<2.11,>=2.10.0->tensorflow_text) (1.0.1)\n",
            "Requirement already satisfied: markdown>=2.6.8 in /usr/local/lib/python3.7/dist-packages (from tensorboard<2.11,>=2.10->tensorflow<2.11,>=2.10.0->tensorflow_text) (3.4.1)\n",
            "Requirement already satisfied: google-auth-oauthlib<0.5,>=0.4.1 in /usr/local/lib/python3.7/dist-packages (from tensorboard<2.11,>=2.10->tensorflow<2.11,>=2.10.0->tensorflow_text) (0.4.6)\n",
            "Requirement already satisfied: tensorboard-data-server<0.7.0,>=0.6.0 in /usr/local/lib/python3.7/dist-packages (from tensorboard<2.11,>=2.10->tensorflow<2.11,>=2.10.0->tensorflow_text) (0.6.1)\n",
            "Requirement already satisfied: rsa<5,>=3.1.4 in /usr/local/lib/python3.7/dist-packages (from google-auth<3,>=1.6.3->tensorboard<2.11,>=2.10->tensorflow<2.11,>=2.10.0->tensorflow_text) (4.9)\n",
            "Requirement already satisfied: pyasn1-modules>=0.2.1 in /usr/local/lib/python3.7/dist-packages (from google-auth<3,>=1.6.3->tensorboard<2.11,>=2.10->tensorflow<2.11,>=2.10.0->tensorflow_text) (0.2.8)\n",
            "Requirement already satisfied: cachetools<5.0,>=2.0.0 in /usr/local/lib/python3.7/dist-packages (from google-auth<3,>=1.6.3->tensorboard<2.11,>=2.10->tensorflow<2.11,>=2.10.0->tensorflow_text) (4.2.4)\n",
            "Requirement already satisfied: requests-oauthlib>=0.7.0 in /usr/local/lib/python3.7/dist-packages (from google-auth-oauthlib<0.5,>=0.4.1->tensorboard<2.11,>=2.10->tensorflow<2.11,>=2.10.0->tensorflow_text) (1.3.1)\n",
            "Requirement already satisfied: importlib-metadata>=4.4 in /usr/local/lib/python3.7/dist-packages (from markdown>=2.6.8->tensorboard<2.11,>=2.10->tensorflow<2.11,>=2.10.0->tensorflow_text) (4.12.0)\n",
            "Requirement already satisfied: zipp>=0.5 in /usr/local/lib/python3.7/dist-packages (from importlib-metadata>=4.4->markdown>=2.6.8->tensorboard<2.11,>=2.10->tensorflow<2.11,>=2.10.0->tensorflow_text) (3.8.1)\n",
            "Requirement already satisfied: pyasn1<0.5.0,>=0.4.6 in /usr/local/lib/python3.7/dist-packages (from pyasn1-modules>=0.2.1->google-auth<3,>=1.6.3->tensorboard<2.11,>=2.10->tensorflow<2.11,>=2.10.0->tensorflow_text) (0.4.8)\n",
            "Requirement already satisfied: chardet<4,>=3.0.2 in /usr/local/lib/python3.7/dist-packages (from requests<3,>=2.21.0->tensorboard<2.11,>=2.10->tensorflow<2.11,>=2.10.0->tensorflow_text) (3.0.4)\n",
            "Requirement already satisfied: certifi>=2017.4.17 in /usr/local/lib/python3.7/dist-packages (from requests<3,>=2.21.0->tensorboard<2.11,>=2.10->tensorflow<2.11,>=2.10.0->tensorflow_text) (2022.6.15)\n",
            "Requirement already satisfied: idna<3,>=2.5 in /usr/local/lib/python3.7/dist-packages (from requests<3,>=2.21.0->tensorboard<2.11,>=2.10->tensorflow<2.11,>=2.10.0->tensorflow_text) (2.10)\n",
            "Requirement already satisfied: urllib3!=1.25.0,!=1.25.1,<1.26,>=1.21.1 in /usr/local/lib/python3.7/dist-packages (from requests<3,>=2.21.0->tensorboard<2.11,>=2.10->tensorflow<2.11,>=2.10.0->tensorflow_text) (1.24.3)\n",
            "Requirement already satisfied: oauthlib>=3.0.0 in /usr/local/lib/python3.7/dist-packages (from requests-oauthlib>=0.7.0->google-auth-oauthlib<0.5,>=0.4.1->tensorboard<2.11,>=2.10->tensorflow<2.11,>=2.10.0->tensorflow_text) (3.2.0)\n",
            "Requirement already satisfied: pyparsing!=3.0.5,>=2.0.2 in /usr/local/lib/python3.7/dist-packages (from packaging->tensorflow<2.11,>=2.10.0->tensorflow_text) (3.0.9)\n",
            "Installing collected packages: tensorflow-estimator, tensorboard, keras, gast, tensorflow, tensorflow-text\n",
            "  Attempting uninstall: tensorflow-estimator\n",
            "    Found existing installation: tensorflow-estimator 2.8.0\n",
            "    Uninstalling tensorflow-estimator-2.8.0:\n",
            "      Successfully uninstalled tensorflow-estimator-2.8.0\n",
            "  Attempting uninstall: tensorboard\n",
            "    Found existing installation: tensorboard 2.8.0\n",
            "    Uninstalling tensorboard-2.8.0:\n",
            "      Successfully uninstalled tensorboard-2.8.0\n",
            "  Attempting uninstall: keras\n",
            "    Found existing installation: keras 2.8.0\n",
            "    Uninstalling keras-2.8.0:\n",
            "      Successfully uninstalled keras-2.8.0\n",
            "  Attempting uninstall: gast\n",
            "    Found existing installation: gast 0.5.3\n",
            "    Uninstalling gast-0.5.3:\n",
            "      Successfully uninstalled gast-0.5.3\n",
            "  Attempting uninstall: tensorflow\n",
            "    Found existing installation: tensorflow 2.8.2+zzzcolab20220719082949\n",
            "    Uninstalling tensorflow-2.8.2+zzzcolab20220719082949:\n",
            "      Successfully uninstalled tensorflow-2.8.2+zzzcolab20220719082949\n",
            "Successfully installed gast-0.4.0 keras-2.10.0 tensorboard-2.10.0 tensorflow-2.10.0 tensorflow-estimator-2.10.0 tensorflow-text-2.10.0\n"
          ]
        }
      ],
      "source": [
        "!pip install tensorflow_text"
      ]
    },
    {
      "cell_type": "code",
      "execution_count": null,
      "metadata": {
        "id": "r5stu3CGWYRv"
      },
      "outputs": [],
      "source": [
        "import pandas as pd\n",
        "import numpy as np\n",
        "import tensorflow as tf\n",
        "import tensorflow_hub as hub\n",
        "import tensorflow_text as text"
      ]
    },
    {
      "cell_type": "code",
      "execution_count": null,
      "metadata": {
        "colab": {
          "base_uri": "https://localhost:8080/",
          "height": 206
        },
        "id": "Q4rkt10EuTSr",
        "outputId": "0dbfa4c3-c56e-466b-cb4b-585141bda76b"
      },
      "outputs": [
        {
          "output_type": "execute_result",
          "data": {
            "text/plain": [
              "  label                                               text\n",
              "0   ham  Go until jurong point, crazy.. Available only ...\n",
              "1   ham                      Ok lar... Joking wif u oni...\n",
              "2  spam  Free entry in 2 a wkly comp to win FA Cup fina...\n",
              "3   ham  U dun say so early hor... U c already then say...\n",
              "4   ham  Nah I don't think he goes to usf, he lives aro..."
            ],
            "text/html": [
              "\n",
              "  <div id=\"df-d4edfa50-f7ed-49e8-95d5-05430c751a56\">\n",
              "    <div class=\"colab-df-container\">\n",
              "      <div>\n",
              "<style scoped>\n",
              "    .dataframe tbody tr th:only-of-type {\n",
              "        vertical-align: middle;\n",
              "    }\n",
              "\n",
              "    .dataframe tbody tr th {\n",
              "        vertical-align: top;\n",
              "    }\n",
              "\n",
              "    .dataframe thead th {\n",
              "        text-align: right;\n",
              "    }\n",
              "</style>\n",
              "<table border=\"1\" class=\"dataframe\">\n",
              "  <thead>\n",
              "    <tr style=\"text-align: right;\">\n",
              "      <th></th>\n",
              "      <th>label</th>\n",
              "      <th>text</th>\n",
              "    </tr>\n",
              "  </thead>\n",
              "  <tbody>\n",
              "    <tr>\n",
              "      <th>0</th>\n",
              "      <td>ham</td>\n",
              "      <td>Go until jurong point, crazy.. Available only ...</td>\n",
              "    </tr>\n",
              "    <tr>\n",
              "      <th>1</th>\n",
              "      <td>ham</td>\n",
              "      <td>Ok lar... Joking wif u oni...</td>\n",
              "    </tr>\n",
              "    <tr>\n",
              "      <th>2</th>\n",
              "      <td>spam</td>\n",
              "      <td>Free entry in 2 a wkly comp to win FA Cup fina...</td>\n",
              "    </tr>\n",
              "    <tr>\n",
              "      <th>3</th>\n",
              "      <td>ham</td>\n",
              "      <td>U dun say so early hor... U c already then say...</td>\n",
              "    </tr>\n",
              "    <tr>\n",
              "      <th>4</th>\n",
              "      <td>ham</td>\n",
              "      <td>Nah I don't think he goes to usf, he lives aro...</td>\n",
              "    </tr>\n",
              "  </tbody>\n",
              "</table>\n",
              "</div>\n",
              "      <button class=\"colab-df-convert\" onclick=\"convertToInteractive('df-d4edfa50-f7ed-49e8-95d5-05430c751a56')\"\n",
              "              title=\"Convert this dataframe to an interactive table.\"\n",
              "              style=\"display:none;\">\n",
              "        \n",
              "  <svg xmlns=\"http://www.w3.org/2000/svg\" height=\"24px\"viewBox=\"0 0 24 24\"\n",
              "       width=\"24px\">\n",
              "    <path d=\"M0 0h24v24H0V0z\" fill=\"none\"/>\n",
              "    <path d=\"M18.56 5.44l.94 2.06.94-2.06 2.06-.94-2.06-.94-.94-2.06-.94 2.06-2.06.94zm-11 1L8.5 8.5l.94-2.06 2.06-.94-2.06-.94L8.5 2.5l-.94 2.06-2.06.94zm10 10l.94 2.06.94-2.06 2.06-.94-2.06-.94-.94-2.06-.94 2.06-2.06.94z\"/><path d=\"M17.41 7.96l-1.37-1.37c-.4-.4-.92-.59-1.43-.59-.52 0-1.04.2-1.43.59L10.3 9.45l-7.72 7.72c-.78.78-.78 2.05 0 2.83L4 21.41c.39.39.9.59 1.41.59.51 0 1.02-.2 1.41-.59l7.78-7.78 2.81-2.81c.8-.78.8-2.07 0-2.86zM5.41 20L4 18.59l7.72-7.72 1.47 1.35L5.41 20z\"/>\n",
              "  </svg>\n",
              "      </button>\n",
              "      \n",
              "  <style>\n",
              "    .colab-df-container {\n",
              "      display:flex;\n",
              "      flex-wrap:wrap;\n",
              "      gap: 12px;\n",
              "    }\n",
              "\n",
              "    .colab-df-convert {\n",
              "      background-color: #E8F0FE;\n",
              "      border: none;\n",
              "      border-radius: 50%;\n",
              "      cursor: pointer;\n",
              "      display: none;\n",
              "      fill: #1967D2;\n",
              "      height: 32px;\n",
              "      padding: 0 0 0 0;\n",
              "      width: 32px;\n",
              "    }\n",
              "\n",
              "    .colab-df-convert:hover {\n",
              "      background-color: #E2EBFA;\n",
              "      box-shadow: 0px 1px 2px rgba(60, 64, 67, 0.3), 0px 1px 3px 1px rgba(60, 64, 67, 0.15);\n",
              "      fill: #174EA6;\n",
              "    }\n",
              "\n",
              "    [theme=dark] .colab-df-convert {\n",
              "      background-color: #3B4455;\n",
              "      fill: #D2E3FC;\n",
              "    }\n",
              "\n",
              "    [theme=dark] .colab-df-convert:hover {\n",
              "      background-color: #434B5C;\n",
              "      box-shadow: 0px 1px 3px 1px rgba(0, 0, 0, 0.15);\n",
              "      filter: drop-shadow(0px 1px 2px rgba(0, 0, 0, 0.3));\n",
              "      fill: #FFFFFF;\n",
              "    }\n",
              "  </style>\n",
              "\n",
              "      <script>\n",
              "        const buttonEl =\n",
              "          document.querySelector('#df-d4edfa50-f7ed-49e8-95d5-05430c751a56 button.colab-df-convert');\n",
              "        buttonEl.style.display =\n",
              "          google.colab.kernel.accessAllowed ? 'block' : 'none';\n",
              "\n",
              "        async function convertToInteractive(key) {\n",
              "          const element = document.querySelector('#df-d4edfa50-f7ed-49e8-95d5-05430c751a56');\n",
              "          const dataTable =\n",
              "            await google.colab.kernel.invokeFunction('convertToInteractive',\n",
              "                                                     [key], {});\n",
              "          if (!dataTable) return;\n",
              "\n",
              "          const docLinkHtml = 'Like what you see? Visit the ' +\n",
              "            '<a target=\"_blank\" href=https://colab.research.google.com/notebooks/data_table.ipynb>data table notebook</a>'\n",
              "            + ' to learn more about interactive tables.';\n",
              "          element.innerHTML = '';\n",
              "          dataTable['output_type'] = 'display_data';\n",
              "          await google.colab.output.renderOutput(dataTable, element);\n",
              "          const docLink = document.createElement('div');\n",
              "          docLink.innerHTML = docLinkHtml;\n",
              "          element.appendChild(docLink);\n",
              "        }\n",
              "      </script>\n",
              "    </div>\n",
              "  </div>\n",
              "  "
            ]
          },
          "metadata": {},
          "execution_count": 3
        }
      ],
      "source": [
        "data = pd.read_csv('spam.csv')\n",
        "data.head()"
      ]
    },
    {
      "cell_type": "code",
      "execution_count": null,
      "metadata": {
        "colab": {
          "base_uri": "https://localhost:8080/",
          "height": 143
        },
        "id": "JIjCi5rjuY4R",
        "outputId": "85884935-9bda-476c-f337-c708e3c3cac8"
      },
      "outputs": [
        {
          "output_type": "execute_result",
          "data": {
            "text/plain": [
              "       text\n",
              "label      \n",
              "ham    4825\n",
              "spam    747"
            ],
            "text/html": [
              "\n",
              "  <div id=\"df-b5c38d01-be52-4b87-b8e6-acd83acd22d8\">\n",
              "    <div class=\"colab-df-container\">\n",
              "      <div>\n",
              "<style scoped>\n",
              "    .dataframe tbody tr th:only-of-type {\n",
              "        vertical-align: middle;\n",
              "    }\n",
              "\n",
              "    .dataframe tbody tr th {\n",
              "        vertical-align: top;\n",
              "    }\n",
              "\n",
              "    .dataframe thead th {\n",
              "        text-align: right;\n",
              "    }\n",
              "</style>\n",
              "<table border=\"1\" class=\"dataframe\">\n",
              "  <thead>\n",
              "    <tr style=\"text-align: right;\">\n",
              "      <th></th>\n",
              "      <th>text</th>\n",
              "    </tr>\n",
              "    <tr>\n",
              "      <th>label</th>\n",
              "      <th></th>\n",
              "    </tr>\n",
              "  </thead>\n",
              "  <tbody>\n",
              "    <tr>\n",
              "      <th>ham</th>\n",
              "      <td>4825</td>\n",
              "    </tr>\n",
              "    <tr>\n",
              "      <th>spam</th>\n",
              "      <td>747</td>\n",
              "    </tr>\n",
              "  </tbody>\n",
              "</table>\n",
              "</div>\n",
              "      <button class=\"colab-df-convert\" onclick=\"convertToInteractive('df-b5c38d01-be52-4b87-b8e6-acd83acd22d8')\"\n",
              "              title=\"Convert this dataframe to an interactive table.\"\n",
              "              style=\"display:none;\">\n",
              "        \n",
              "  <svg xmlns=\"http://www.w3.org/2000/svg\" height=\"24px\"viewBox=\"0 0 24 24\"\n",
              "       width=\"24px\">\n",
              "    <path d=\"M0 0h24v24H0V0z\" fill=\"none\"/>\n",
              "    <path d=\"M18.56 5.44l.94 2.06.94-2.06 2.06-.94-2.06-.94-.94-2.06-.94 2.06-2.06.94zm-11 1L8.5 8.5l.94-2.06 2.06-.94-2.06-.94L8.5 2.5l-.94 2.06-2.06.94zm10 10l.94 2.06.94-2.06 2.06-.94-2.06-.94-.94-2.06-.94 2.06-2.06.94z\"/><path d=\"M17.41 7.96l-1.37-1.37c-.4-.4-.92-.59-1.43-.59-.52 0-1.04.2-1.43.59L10.3 9.45l-7.72 7.72c-.78.78-.78 2.05 0 2.83L4 21.41c.39.39.9.59 1.41.59.51 0 1.02-.2 1.41-.59l7.78-7.78 2.81-2.81c.8-.78.8-2.07 0-2.86zM5.41 20L4 18.59l7.72-7.72 1.47 1.35L5.41 20z\"/>\n",
              "  </svg>\n",
              "      </button>\n",
              "      \n",
              "  <style>\n",
              "    .colab-df-container {\n",
              "      display:flex;\n",
              "      flex-wrap:wrap;\n",
              "      gap: 12px;\n",
              "    }\n",
              "\n",
              "    .colab-df-convert {\n",
              "      background-color: #E8F0FE;\n",
              "      border: none;\n",
              "      border-radius: 50%;\n",
              "      cursor: pointer;\n",
              "      display: none;\n",
              "      fill: #1967D2;\n",
              "      height: 32px;\n",
              "      padding: 0 0 0 0;\n",
              "      width: 32px;\n",
              "    }\n",
              "\n",
              "    .colab-df-convert:hover {\n",
              "      background-color: #E2EBFA;\n",
              "      box-shadow: 0px 1px 2px rgba(60, 64, 67, 0.3), 0px 1px 3px 1px rgba(60, 64, 67, 0.15);\n",
              "      fill: #174EA6;\n",
              "    }\n",
              "\n",
              "    [theme=dark] .colab-df-convert {\n",
              "      background-color: #3B4455;\n",
              "      fill: #D2E3FC;\n",
              "    }\n",
              "\n",
              "    [theme=dark] .colab-df-convert:hover {\n",
              "      background-color: #434B5C;\n",
              "      box-shadow: 0px 1px 3px 1px rgba(0, 0, 0, 0.15);\n",
              "      filter: drop-shadow(0px 1px 2px rgba(0, 0, 0, 0.3));\n",
              "      fill: #FFFFFF;\n",
              "    }\n",
              "  </style>\n",
              "\n",
              "      <script>\n",
              "        const buttonEl =\n",
              "          document.querySelector('#df-b5c38d01-be52-4b87-b8e6-acd83acd22d8 button.colab-df-convert');\n",
              "        buttonEl.style.display =\n",
              "          google.colab.kernel.accessAllowed ? 'block' : 'none';\n",
              "\n",
              "        async function convertToInteractive(key) {\n",
              "          const element = document.querySelector('#df-b5c38d01-be52-4b87-b8e6-acd83acd22d8');\n",
              "          const dataTable =\n",
              "            await google.colab.kernel.invokeFunction('convertToInteractive',\n",
              "                                                     [key], {});\n",
              "          if (!dataTable) return;\n",
              "\n",
              "          const docLinkHtml = 'Like what you see? Visit the ' +\n",
              "            '<a target=\"_blank\" href=https://colab.research.google.com/notebooks/data_table.ipynb>data table notebook</a>'\n",
              "            + ' to learn more about interactive tables.';\n",
              "          element.innerHTML = '';\n",
              "          dataTable['output_type'] = 'display_data';\n",
              "          await google.colab.output.renderOutput(dataTable, element);\n",
              "          const docLink = document.createElement('div');\n",
              "          docLink.innerHTML = docLinkHtml;\n",
              "          element.appendChild(docLink);\n",
              "        }\n",
              "      </script>\n",
              "    </div>\n",
              "  </div>\n",
              "  "
            ]
          },
          "metadata": {},
          "execution_count": 4
        }
      ],
      "source": [
        "data.groupby('label').aggregate('count')"
      ]
    },
    {
      "cell_type": "markdown",
      "metadata": {
        "id": "D3f6ZslgulC3"
      },
      "source": [
        "### Imbalance factor"
      ]
    },
    {
      "cell_type": "code",
      "execution_count": null,
      "metadata": {
        "colab": {
          "base_uri": "https://localhost:8080/"
        },
        "id": "IY5iUQeTugLR",
        "outputId": "8d4d6a6e-0883-46bb-98ef-21375e7165f0"
      },
      "outputs": [
        {
          "output_type": "execute_result",
          "data": {
            "text/plain": [
              "15.481865284974095"
            ]
          },
          "metadata": {},
          "execution_count": 5
        }
      ],
      "source": [
        "(len(data[data['label'] == 'spam']) / len(data[data['label'] == 'ham']))*100"
      ]
    },
    {
      "cell_type": "markdown",
      "metadata": {
        "id": "JlFsSZ_7vjeV"
      },
      "source": [
        "### Creating a Binary label for Spam"
      ]
    },
    {
      "cell_type": "code",
      "execution_count": null,
      "metadata": {
        "colab": {
          "base_uri": "https://localhost:8080/",
          "height": 206
        },
        "id": "wLgU9NqMviSw",
        "outputId": "00792260-33e1-4c3f-9c3b-c1b070691328"
      },
      "outputs": [
        {
          "output_type": "execute_result",
          "data": {
            "text/plain": [
              "  label                                               text  is_spam\n",
              "0   ham  Go until jurong point, crazy.. Available only ...        0\n",
              "1   ham                      Ok lar... Joking wif u oni...        0\n",
              "2  spam  Free entry in 2 a wkly comp to win FA Cup fina...        1\n",
              "3   ham  U dun say so early hor... U c already then say...        0\n",
              "4   ham  Nah I don't think he goes to usf, he lives aro...        0"
            ],
            "text/html": [
              "\n",
              "  <div id=\"df-c26c7867-9b4f-4ab9-aec4-e0353bc9f981\">\n",
              "    <div class=\"colab-df-container\">\n",
              "      <div>\n",
              "<style scoped>\n",
              "    .dataframe tbody tr th:only-of-type {\n",
              "        vertical-align: middle;\n",
              "    }\n",
              "\n",
              "    .dataframe tbody tr th {\n",
              "        vertical-align: top;\n",
              "    }\n",
              "\n",
              "    .dataframe thead th {\n",
              "        text-align: right;\n",
              "    }\n",
              "</style>\n",
              "<table border=\"1\" class=\"dataframe\">\n",
              "  <thead>\n",
              "    <tr style=\"text-align: right;\">\n",
              "      <th></th>\n",
              "      <th>label</th>\n",
              "      <th>text</th>\n",
              "      <th>is_spam</th>\n",
              "    </tr>\n",
              "  </thead>\n",
              "  <tbody>\n",
              "    <tr>\n",
              "      <th>0</th>\n",
              "      <td>ham</td>\n",
              "      <td>Go until jurong point, crazy.. Available only ...</td>\n",
              "      <td>0</td>\n",
              "    </tr>\n",
              "    <tr>\n",
              "      <th>1</th>\n",
              "      <td>ham</td>\n",
              "      <td>Ok lar... Joking wif u oni...</td>\n",
              "      <td>0</td>\n",
              "    </tr>\n",
              "    <tr>\n",
              "      <th>2</th>\n",
              "      <td>spam</td>\n",
              "      <td>Free entry in 2 a wkly comp to win FA Cup fina...</td>\n",
              "      <td>1</td>\n",
              "    </tr>\n",
              "    <tr>\n",
              "      <th>3</th>\n",
              "      <td>ham</td>\n",
              "      <td>U dun say so early hor... U c already then say...</td>\n",
              "      <td>0</td>\n",
              "    </tr>\n",
              "    <tr>\n",
              "      <th>4</th>\n",
              "      <td>ham</td>\n",
              "      <td>Nah I don't think he goes to usf, he lives aro...</td>\n",
              "      <td>0</td>\n",
              "    </tr>\n",
              "  </tbody>\n",
              "</table>\n",
              "</div>\n",
              "      <button class=\"colab-df-convert\" onclick=\"convertToInteractive('df-c26c7867-9b4f-4ab9-aec4-e0353bc9f981')\"\n",
              "              title=\"Convert this dataframe to an interactive table.\"\n",
              "              style=\"display:none;\">\n",
              "        \n",
              "  <svg xmlns=\"http://www.w3.org/2000/svg\" height=\"24px\"viewBox=\"0 0 24 24\"\n",
              "       width=\"24px\">\n",
              "    <path d=\"M0 0h24v24H0V0z\" fill=\"none\"/>\n",
              "    <path d=\"M18.56 5.44l.94 2.06.94-2.06 2.06-.94-2.06-.94-.94-2.06-.94 2.06-2.06.94zm-11 1L8.5 8.5l.94-2.06 2.06-.94-2.06-.94L8.5 2.5l-.94 2.06-2.06.94zm10 10l.94 2.06.94-2.06 2.06-.94-2.06-.94-.94-2.06-.94 2.06-2.06.94z\"/><path d=\"M17.41 7.96l-1.37-1.37c-.4-.4-.92-.59-1.43-.59-.52 0-1.04.2-1.43.59L10.3 9.45l-7.72 7.72c-.78.78-.78 2.05 0 2.83L4 21.41c.39.39.9.59 1.41.59.51 0 1.02-.2 1.41-.59l7.78-7.78 2.81-2.81c.8-.78.8-2.07 0-2.86zM5.41 20L4 18.59l7.72-7.72 1.47 1.35L5.41 20z\"/>\n",
              "  </svg>\n",
              "      </button>\n",
              "      \n",
              "  <style>\n",
              "    .colab-df-container {\n",
              "      display:flex;\n",
              "      flex-wrap:wrap;\n",
              "      gap: 12px;\n",
              "    }\n",
              "\n",
              "    .colab-df-convert {\n",
              "      background-color: #E8F0FE;\n",
              "      border: none;\n",
              "      border-radius: 50%;\n",
              "      cursor: pointer;\n",
              "      display: none;\n",
              "      fill: #1967D2;\n",
              "      height: 32px;\n",
              "      padding: 0 0 0 0;\n",
              "      width: 32px;\n",
              "    }\n",
              "\n",
              "    .colab-df-convert:hover {\n",
              "      background-color: #E2EBFA;\n",
              "      box-shadow: 0px 1px 2px rgba(60, 64, 67, 0.3), 0px 1px 3px 1px rgba(60, 64, 67, 0.15);\n",
              "      fill: #174EA6;\n",
              "    }\n",
              "\n",
              "    [theme=dark] .colab-df-convert {\n",
              "      background-color: #3B4455;\n",
              "      fill: #D2E3FC;\n",
              "    }\n",
              "\n",
              "    [theme=dark] .colab-df-convert:hover {\n",
              "      background-color: #434B5C;\n",
              "      box-shadow: 0px 1px 3px 1px rgba(0, 0, 0, 0.15);\n",
              "      filter: drop-shadow(0px 1px 2px rgba(0, 0, 0, 0.3));\n",
              "      fill: #FFFFFF;\n",
              "    }\n",
              "  </style>\n",
              "\n",
              "      <script>\n",
              "        const buttonEl =\n",
              "          document.querySelector('#df-c26c7867-9b4f-4ab9-aec4-e0353bc9f981 button.colab-df-convert');\n",
              "        buttonEl.style.display =\n",
              "          google.colab.kernel.accessAllowed ? 'block' : 'none';\n",
              "\n",
              "        async function convertToInteractive(key) {\n",
              "          const element = document.querySelector('#df-c26c7867-9b4f-4ab9-aec4-e0353bc9f981');\n",
              "          const dataTable =\n",
              "            await google.colab.kernel.invokeFunction('convertToInteractive',\n",
              "                                                     [key], {});\n",
              "          if (!dataTable) return;\n",
              "\n",
              "          const docLinkHtml = 'Like what you see? Visit the ' +\n",
              "            '<a target=\"_blank\" href=https://colab.research.google.com/notebooks/data_table.ipynb>data table notebook</a>'\n",
              "            + ' to learn more about interactive tables.';\n",
              "          element.innerHTML = '';\n",
              "          dataTable['output_type'] = 'display_data';\n",
              "          await google.colab.output.renderOutput(dataTable, element);\n",
              "          const docLink = document.createElement('div');\n",
              "          docLink.innerHTML = docLinkHtml;\n",
              "          element.appendChild(docLink);\n",
              "        }\n",
              "      </script>\n",
              "    </div>\n",
              "  </div>\n",
              "  "
            ]
          },
          "metadata": {},
          "execution_count": 6
        }
      ],
      "source": [
        "data['is_spam'] = data['label'].apply(lambda x: 1 if x=='spam' else 0)\n",
        "data.head()"
      ]
    },
    {
      "cell_type": "code",
      "source": [
        "data_ham_downsampled = data[data['label'] == 'ham'].sample(data[data['label'] == 'spam'].shape[0])\n",
        "data_ham_downsampled.shape"
      ],
      "metadata": {
        "colab": {
          "base_uri": "https://localhost:8080/"
        },
        "id": "8ETzBQm-N2xw",
        "outputId": "4be77872-9a87-400d-d645-f04738e9a094"
      },
      "execution_count": null,
      "outputs": [
        {
          "output_type": "execute_result",
          "data": {
            "text/plain": [
              "(747, 3)"
            ]
          },
          "metadata": {},
          "execution_count": 7
        }
      ]
    },
    {
      "cell_type": "code",
      "source": [
        "data_spam = data[data['label'] == 'spam']\n",
        "data_spam.shape"
      ],
      "metadata": {
        "colab": {
          "base_uri": "https://localhost:8080/"
        },
        "id": "8joKfkPhOZsk",
        "outputId": "b6caf641-bca2-401a-fcfa-4e6fb2f94ecb"
      },
      "execution_count": null,
      "outputs": [
        {
          "output_type": "execute_result",
          "data": {
            "text/plain": [
              "(747, 3)"
            ]
          },
          "metadata": {},
          "execution_count": 8
        }
      ]
    },
    {
      "cell_type": "markdown",
      "source": [
        "### Resampled Data"
      ],
      "metadata": {
        "id": "IrATevDgOSLF"
      }
    },
    {
      "cell_type": "code",
      "source": [
        "data_resampled = pd.concat([data_spam, data_ham_downsampled])\n",
        "data_resampled.shape"
      ],
      "metadata": {
        "colab": {
          "base_uri": "https://localhost:8080/"
        },
        "id": "bxShre2SOQ6_",
        "outputId": "69925df7-f6ec-491c-cddf-8832f199aaf6"
      },
      "execution_count": null,
      "outputs": [
        {
          "output_type": "execute_result",
          "data": {
            "text/plain": [
              "(1494, 3)"
            ]
          },
          "metadata": {},
          "execution_count": 10
        }
      ]
    },
    {
      "cell_type": "code",
      "execution_count": null,
      "metadata": {
        "colab": {
          "base_uri": "https://localhost:8080/"
        },
        "id": "ckm6rqLoxz6O",
        "outputId": "47b4e28c-fa21-4738-d330-ae4417dcc644"
      },
      "outputs": [
        {
          "output_type": "stream",
          "name": "stderr",
          "text": [
            "WARNING:tensorflow:Please fix your imports. Module tensorflow.python.training.tracking.data_structures has been moved to tensorflow.python.trackable.data_structures. The old module will be deleted in version 2.11.\n"
          ]
        }
      ],
      "source": [
        "bert_preprocessor = hub.KerasLayer(\"https://tfhub.dev/tensorflow/bert_en_uncased_preprocess/3\")\n",
        "bert_encoder = hub.KerasLayer(\"https://tfhub.dev/tensorflow/bert_en_uncased_L-12_H-768_A-12/4\")"
      ]
    },
    {
      "cell_type": "code",
      "execution_count": null,
      "metadata": {
        "id": "NgQvVgC7xgEJ"
      },
      "outputs": [],
      "source": [
        "def sentence_embedding(sentences):\n",
        "  preprocessed_text = bert_preprocessor(sentences)\n",
        "  encoded_text = bert_encoder(preprocessed_text)\n",
        "  return encoded_text['pooled_output']"
      ]
    },
    {
      "cell_type": "code",
      "execution_count": null,
      "metadata": {
        "id": "KYMiWabLJc31"
      },
      "outputs": [],
      "source": [
        "from sklearn.model_selection import train_test_split\n",
        "\n",
        "X_train, X_test, y_train, y_test = train_test_split(data_resampled['text'], data_resampled['is_spam'], stratify= data_resampled['is_spam'])\n",
        "\n"
      ]
    },
    {
      "cell_type": "code",
      "source": [
        "sentence_embedding([\"I am an Applied Scientist\"])"
      ],
      "metadata": {
        "colab": {
          "base_uri": "https://localhost:8080/"
        },
        "id": "ZIOUigZkQQdT",
        "outputId": "31ee6a2e-9fc8-45bd-f9ec-8928866e2eaf"
      },
      "execution_count": null,
      "outputs": [
        {
          "output_type": "execute_result",
          "data": {
            "text/plain": [
              "<tf.Tensor: shape=(1, 768), dtype=float32, numpy=\n",
              "array([[-8.53814542e-01, -3.51923347e-01, -1.61244690e-01,\n",
              "         6.27518058e-01,  1.58332214e-01, -3.77079397e-02,\n",
              "         7.92698264e-01,  1.23102173e-01,  3.17027010e-02,\n",
              "        -9.99906957e-01, -2.36655660e-02,  7.57012963e-01,\n",
              "         9.82199371e-01,  1.57362059e-01,  8.91117454e-01,\n",
              "        -6.17887437e-01, -3.05314325e-02, -5.13239324e-01,\n",
              "         2.41851240e-01, -4.36399788e-01,  6.02993965e-01,\n",
              "         9.97012377e-01,  4.47796702e-01,  2.60306448e-01,\n",
              "         3.30718160e-01,  8.29564154e-01, -5.69637597e-01,\n",
              "         9.11236882e-01,  9.40909863e-01,  7.05781579e-01,\n",
              "        -5.91476381e-01,  1.24078989e-01, -9.90299582e-01,\n",
              "        -6.50027534e-03, -2.47756615e-01, -9.88902807e-01,\n",
              "         2.94874489e-01, -7.19374180e-01,  1.75654575e-01,\n",
              "         1.24975085e-01, -8.90012383e-01,  2.59850830e-01,\n",
              "         9.99480486e-01, -4.66404527e-01,  2.21896037e-01,\n",
              "        -1.99827373e-01, -9.99978304e-01,  1.44862071e-01,\n",
              "        -8.95502567e-01,  1.90481901e-01,  2.00524628e-01,\n",
              "         1.16928719e-01,  1.22072473e-01,  3.13794732e-01,\n",
              "         3.59152853e-01,  1.59794509e-01, -2.06432074e-01,\n",
              "        -2.66125845e-03, -1.96287885e-01, -4.74526435e-01,\n",
              "        -6.23637617e-01,  3.27630311e-01, -3.17759722e-01,\n",
              "        -8.49005520e-01,  1.29073814e-01,  1.05605446e-01,\n",
              "        -1.38881961e-02, -1.48584008e-01,  9.42051113e-02,\n",
              "        -1.64837509e-01,  8.42301130e-01,  1.14715889e-01,\n",
              "         1.60683766e-01, -7.80697584e-01, -2.68508464e-01,\n",
              "        -4.30417210e-02, -5.29102921e-01,  1.00000000e+00,\n",
              "        -3.15928608e-01, -9.80169475e-01,  2.14260250e-01,\n",
              "        -6.54686522e-03,  4.19660985e-01,  4.96848851e-01,\n",
              "        -1.56878889e-01, -9.99999166e-01,  3.07472438e-01,\n",
              "        -4.63633761e-02, -9.91741717e-01,  7.70275667e-02,\n",
              "         4.21483427e-01, -1.51030779e-01,  5.15668616e-02,\n",
              "         4.88696247e-01, -1.33332089e-01, -2.22300991e-01,\n",
              "        -1.60033628e-01, -2.18597084e-01, -1.09616078e-01,\n",
              "        -1.29036143e-01,  1.09187877e-02, -7.39576146e-02,\n",
              "        -8.29147771e-02, -2.61641294e-01,  1.09756947e-01,\n",
              "        -4.15270984e-01, -4.16612953e-01,  4.63340253e-01,\n",
              "        -1.36384249e-01,  5.93120217e-01,  3.73813927e-01,\n",
              "        -2.40691140e-01,  1.52945280e-01, -9.33589160e-01,\n",
              "         5.15495718e-01, -2.45998353e-01, -9.83976662e-01,\n",
              "        -4.39535141e-01, -9.89101827e-01,  6.53736353e-01,\n",
              "        -1.01610072e-01, -4.12055738e-02,  9.53711331e-01,\n",
              "         3.29095811e-01,  2.94733167e-01,  7.08662570e-02,\n",
              "        -1.91761881e-01, -1.00000000e+00, -4.43382293e-01,\n",
              "        -2.47195333e-01,  2.00383842e-01, -6.71387017e-02,\n",
              "        -9.78628159e-01, -9.61144984e-01,  4.92920786e-01,\n",
              "         9.36190784e-01,  6.43413588e-02,  9.98574078e-01,\n",
              "        -1.34030551e-01,  9.25386369e-01,  2.01914787e-01,\n",
              "        -2.26853520e-01, -1.15340151e-01, -3.19679081e-01,\n",
              "         4.71995056e-01,  1.05322525e-01, -5.80863893e-01,\n",
              "         1.39565751e-01, -2.67478734e-01, -1.88640997e-01,\n",
              "        -2.78448015e-01, -1.05649857e-02, -9.85989422e-02,\n",
              "        -9.06801283e-01, -3.43018621e-01,  9.46438909e-01,\n",
              "         7.32705966e-02, -2.94744015e-01,  5.40704012e-01,\n",
              "        -1.40265882e-01, -2.93775499e-01,  7.93235421e-01,\n",
              "         5.53289115e-01,  2.78754383e-01, -6.79024085e-02,\n",
              "         3.04138303e-01, -1.56369731e-01,  4.69267845e-01,\n",
              "        -8.10850084e-01,  3.62936974e-01,  3.47416848e-01,\n",
              "        -1.91756427e-01, -2.22241849e-01, -9.76640165e-01,\n",
              "        -1.79931462e-01,  3.43689740e-01,  9.86220300e-01,\n",
              "         6.78828537e-01,  1.60066396e-01,  3.76968831e-01,\n",
              "        -2.46481851e-01,  3.04338843e-01, -9.43909287e-01,\n",
              "         9.81029391e-01, -1.42992353e-02,  1.90243021e-01,\n",
              "        -3.66943050e-03, -8.21713880e-02, -8.61765265e-01,\n",
              "        -2.72845596e-01,  7.31020212e-01, -3.32389623e-01,\n",
              "        -8.26348245e-01,  9.53837112e-02, -4.40882653e-01,\n",
              "        -1.44063026e-01, -3.30695868e-01,  3.80752087e-01,\n",
              "        -1.90600559e-01, -3.10327351e-01, -6.21860102e-02,\n",
              "         9.25073147e-01,  9.25373971e-01,  7.07963288e-01,\n",
              "        -4.52823937e-01,  5.21422088e-01, -8.72117996e-01,\n",
              "        -3.85159820e-01,  1.60460528e-02,  1.35306254e-01,\n",
              "         3.19438465e-02,  9.90821838e-01, -3.34100097e-01,\n",
              "         2.46205218e-02, -9.02189076e-01, -9.85661328e-01,\n",
              "        -1.18117571e-01, -8.58588696e-01, -3.46971042e-02,\n",
              "        -6.33292913e-01,  3.77091378e-01,  2.47604072e-01,\n",
              "        -1.02975845e-01,  2.92026132e-01, -9.50146437e-01,\n",
              "        -7.03570783e-01,  2.85530537e-01, -3.08105111e-01,\n",
              "         3.26351881e-01, -2.50508726e-01,  7.96533525e-01,\n",
              "         4.27209169e-01, -5.47982454e-01,  5.22348106e-01,\n",
              "         9.09043610e-01, -3.63714278e-01, -7.43787766e-01,\n",
              "         6.85902953e-01, -2.11064667e-01,  8.72924566e-01,\n",
              "        -5.21201670e-01,  9.78947461e-01,  5.48986197e-01,\n",
              "         5.75402737e-01, -9.09867287e-01, -7.37697631e-02,\n",
              "        -8.72812033e-01,  8.87607560e-02,  5.56730330e-02,\n",
              "        -4.24935222e-01,  1.87379718e-01,  5.09467304e-01,\n",
              "         2.49781489e-01,  7.21990645e-01, -3.29459518e-01,\n",
              "         9.84153926e-01, -8.35851550e-01, -9.55219030e-01,\n",
              "         1.43004283e-01, -5.26474304e-02, -9.91100311e-01,\n",
              "         2.86383122e-01,  1.85458928e-01, -2.22427770e-01,\n",
              "        -2.72729218e-01, -4.37778771e-01, -9.53874290e-01,\n",
              "         7.65097618e-01, -2.68382998e-03,  9.68254328e-01,\n",
              "        -6.42327666e-02, -8.47702265e-01, -2.40006700e-01,\n",
              "        -9.13717926e-01, -2.26480603e-01, -1.29146740e-01,\n",
              "         3.57962281e-01, -1.65210083e-01, -9.37722921e-01,\n",
              "         4.24611211e-01,  5.66900551e-01,  4.40143079e-01,\n",
              "         1.19145617e-01,  9.90376592e-01,  9.99927282e-01,\n",
              "         9.74563181e-01,  8.49042416e-01,  7.93623686e-01,\n",
              "        -9.85258579e-01, -5.96335568e-02,  9.99958754e-01,\n",
              "        -8.84525716e-01, -9.99997854e-01, -9.19104218e-01,\n",
              "        -4.36640143e-01,  3.77847761e-01, -1.00000000e+00,\n",
              "        -1.84296165e-02,  1.20943852e-01, -8.93172801e-01,\n",
              "        -9.43298191e-02,  9.73382056e-01,  9.71945822e-01,\n",
              "        -1.00000000e+00,  8.10036957e-01,  9.28684711e-01,\n",
              "        -5.32095850e-01,  7.03866541e-01, -1.48843542e-01,\n",
              "         9.68442321e-01,  2.81047940e-01,  4.07108784e-01,\n",
              "        -1.51592316e-02,  3.23861629e-01, -5.29799759e-01,\n",
              "        -7.90755391e-01,  2.23694876e-01, -1.08435296e-01,\n",
              "         9.44913566e-01,  3.13505456e-02, -6.90957844e-01,\n",
              "        -8.67693305e-01,  2.24919289e-01,  4.47497442e-02,\n",
              "        -4.73175287e-01, -9.63236988e-01, -9.83113125e-02,\n",
              "        -3.98424357e-01,  5.72699666e-01,  5.64976148e-02,\n",
              "         1.92573398e-01, -6.77669108e-01,  2.47732494e-02,\n",
              "        -4.16886091e-01,  2.16520384e-01,  5.78972936e-01,\n",
              "        -8.88703108e-01, -5.61702609e-01,  1.17856815e-01,\n",
              "        -5.06003320e-01,  1.36515990e-01, -9.57931757e-01,\n",
              "         9.59564030e-01, -1.18787028e-01,  7.76010081e-02,\n",
              "         1.00000000e+00, -4.25390273e-01, -8.57385635e-01,\n",
              "         3.58204454e-01,  1.54259920e-01, -3.55480433e-01,\n",
              "         1.00000000e+00,  6.43696308e-01, -9.82375383e-01,\n",
              "        -4.84082609e-01,  2.90189326e-01, -3.48747820e-01,\n",
              "        -4.59388256e-01,  9.98344064e-01, -1.62911952e-01,\n",
              "         8.65287930e-02,  1.74712211e-01,  9.82102096e-01,\n",
              "        -9.90306795e-01,  8.95960927e-01, -9.05264437e-01,\n",
              "        -9.59589481e-01,  9.55908537e-01,  9.38539743e-01,\n",
              "        -2.40753576e-01, -5.89155555e-01, -7.80574754e-02,\n",
              "        -1.23216145e-01,  9.08967704e-02, -9.25243556e-01,\n",
              "         4.84084249e-01,  3.38139921e-01, -2.02010069e-02,\n",
              "         8.90997291e-01, -7.21829712e-01, -5.12893558e-01,\n",
              "         2.65257835e-01,  8.66615176e-02,  3.85560393e-01,\n",
              "         4.24333394e-01,  3.13469738e-01, -1.22416720e-01,\n",
              "         3.89353707e-02, -7.45303333e-02, -5.37074506e-01,\n",
              "        -9.65072870e-01,  2.56185591e-01,  1.00000000e+00,\n",
              "         1.73275575e-01,  1.23445220e-01, -1.79228514e-01,\n",
              "         9.93458740e-03, -3.34684521e-01,  3.17423165e-01,\n",
              "         4.11560208e-01, -2.02230975e-01, -7.91808188e-01,\n",
              "         4.94543724e-02, -8.81766915e-01, -9.89905834e-01,\n",
              "         5.33455014e-01,  8.45235661e-02, -1.93513244e-01,\n",
              "         9.99606013e-01,  1.83432788e-01,  1.15541488e-01,\n",
              "        -1.10289931e-01,  7.44112015e-01, -8.26636106e-02,\n",
              "         4.54013705e-01, -1.36499889e-02,  9.77210701e-01,\n",
              "        -1.60632864e-01,  4.43333983e-01,  7.51015663e-01,\n",
              "        -1.60209998e-01, -2.10083693e-01, -5.96910477e-01,\n",
              "        -5.48384339e-02, -9.30366814e-01,  1.64951652e-01,\n",
              "        -9.60035384e-01,  9.51910436e-01,  2.19087914e-01,\n",
              "         1.94274992e-01,  3.28638330e-02,  1.69253156e-01,\n",
              "         1.00000000e+00, -3.55292350e-01,  4.38596547e-01,\n",
              "        -6.72555938e-02,  6.22565627e-01, -9.84363794e-01,\n",
              "        -7.28433371e-01, -2.95175940e-01,  1.08062252e-02,\n",
              "         1.35392416e-02, -3.01156640e-01,  7.42216930e-02,\n",
              "        -9.65569258e-01,  3.88873667e-02, -7.56672472e-02,\n",
              "        -9.49231386e-01, -9.81839657e-01,  4.25589085e-01,\n",
              "         6.64506555e-01, -7.89740607e-02, -7.94606626e-01,\n",
              "        -5.62412441e-01, -6.07069433e-01,  1.67837977e-01,\n",
              "        -9.07319784e-02, -9.16542888e-01,  5.49727857e-01,\n",
              "        -9.24234390e-02,  3.08984667e-01, -1.60443559e-01,\n",
              "         4.85557646e-01,  4.03706878e-02,  8.25517058e-01,\n",
              "         7.71904960e-02,  5.67472947e-04, -1.61658451e-02,\n",
              "        -7.36071765e-01,  7.79004931e-01, -7.64386117e-01,\n",
              "        -3.32866758e-01, -8.56451318e-02,  1.00000000e+00,\n",
              "        -2.87416846e-01,  4.72067237e-01,  6.14372492e-01,\n",
              "         5.78643620e-01, -8.03351179e-02,  1.84141904e-01,\n",
              "         4.07402188e-01,  1.04462609e-01, -6.13492429e-02,\n",
              "         1.59200635e-02, -5.60036041e-02, -1.27710238e-01,\n",
              "         4.96567607e-01, -4.59151641e-02, -3.30683868e-03,\n",
              "         7.84944952e-01,  4.48384196e-01,  1.55419797e-01,\n",
              "         1.29854172e-01,  1.92304682e-02,  9.94532943e-01,\n",
              "        -2.47162879e-02, -5.55614009e-02, -3.26637328e-01,\n",
              "        -5.87592721e-02, -3.12730640e-01, -1.17630310e-01,\n",
              "         9.99999166e-01,  2.50361532e-01, -5.54192141e-02,\n",
              "        -9.89423871e-01, -2.48702168e-01, -8.45111787e-01,\n",
              "         9.99708831e-01,  8.12974036e-01, -7.71891296e-01,\n",
              "         4.92233574e-01,  3.01134855e-01, -1.12784758e-01,\n",
              "         6.63124502e-01, -1.08790517e-01, -1.08978294e-01,\n",
              "         9.66884494e-02, -6.45127371e-02,  9.55389678e-01,\n",
              "        -3.53459835e-01, -9.65954304e-01, -5.30739546e-01,\n",
              "         2.38968760e-01, -9.59358096e-01,  9.90602195e-01,\n",
              "        -4.48479921e-01, -2.02994630e-01, -2.65112251e-01,\n",
              "         2.03882366e-01,  7.69332722e-02, -1.34122238e-01,\n",
              "        -9.77059543e-01, -9.04529318e-02, -2.07153969e-02,\n",
              "         9.63014543e-01,  9.97176915e-02, -4.53443766e-01,\n",
              "        -8.70204926e-01, -2.02333957e-01,  1.60249904e-01,\n",
              "        -1.80400744e-01, -9.10699964e-01,  9.66930389e-01,\n",
              "        -9.68442619e-01,  3.86459529e-01,  9.99996960e-01,\n",
              "         2.43560314e-01, -5.19500792e-01,  1.33254483e-01,\n",
              "        -4.92757559e-01,  1.50199071e-01,  1.66616648e-01,\n",
              "         5.18054724e-01, -9.40594077e-01, -2.66146570e-01,\n",
              "        -6.26046583e-02,  1.37911037e-01, -6.88318834e-02,\n",
              "         2.00158909e-01,  5.43290615e-01,  1.21161155e-01,\n",
              "        -4.44496542e-01, -5.04396319e-01,  7.83923082e-03,\n",
              "         3.30858737e-01,  6.51377261e-01, -7.13377967e-02,\n",
              "         3.13583910e-02,  2.71777902e-02, -3.83456275e-02,\n",
              "        -8.69740486e-01, -2.18020990e-01, -2.20915675e-01,\n",
              "        -9.98621464e-01,  5.59183836e-01, -1.00000000e+00,\n",
              "        -3.16036403e-01, -3.69733572e-01, -1.68795362e-01,\n",
              "         7.38862514e-01,  3.56607080e-01,  1.45280585e-01,\n",
              "        -6.68854177e-01, -4.65286896e-02,  8.07293952e-01,\n",
              "         6.47916496e-01, -1.20222919e-01,  1.77639753e-01,\n",
              "        -6.79053605e-01,  9.39003900e-02,  2.64436030e-03,\n",
              "         1.16322316e-01, -3.64663750e-02,  7.23917246e-01,\n",
              "        -9.24841389e-02,  1.00000000e+00,  4.80074324e-02,\n",
              "        -4.34182763e-01, -9.27587390e-01,  1.88209072e-01,\n",
              "        -1.20288752e-01,  9.99982238e-01, -8.06156516e-01,\n",
              "        -9.50670838e-01,  2.32607916e-01, -5.79860926e-01,\n",
              "        -7.60678887e-01,  1.38413414e-01, -1.09761119e-01,\n",
              "        -5.96999466e-01, -4.94577050e-01,  9.19205964e-01,\n",
              "         6.61902606e-01, -5.14399111e-01,  3.73209238e-01,\n",
              "        -1.40001878e-01, -4.69214112e-01, -9.56914723e-02,\n",
              "         1.99775636e-01,  9.87747610e-01, -9.37576219e-02,\n",
              "         8.77010524e-01,  5.93316317e-01, -6.69955835e-02,\n",
              "         9.65645909e-01,  8.74903426e-02,  2.66066432e-01,\n",
              "        -3.80145162e-02,  9.99998927e-01,  2.01696709e-01,\n",
              "        -9.20787275e-01,  3.83012116e-01, -9.79388535e-01,\n",
              "        -4.43576910e-02, -9.35607970e-01,  1.88205749e-01,\n",
              "        -8.30825884e-03,  8.80676270e-01, -1.00565590e-01,\n",
              "         9.46777880e-01,  1.81627452e-01, -1.12734593e-01,\n",
              "         9.94241908e-02,  2.42706284e-01,  1.98803499e-01,\n",
              "        -9.28134561e-01, -9.84522700e-01, -9.83644068e-01,\n",
              "         2.76470095e-01, -3.42624217e-01,  6.77207187e-02,\n",
              "         2.03578100e-01, -1.71708353e-02,  2.74482727e-01,\n",
              "         1.86617494e-01, -9.99998927e-01,  9.21568334e-01,\n",
              "         3.34486485e-01,  2.46488929e-01,  9.65505540e-01,\n",
              "         2.20102996e-01,  2.53584981e-01,  1.77868068e-01,\n",
              "        -9.83978927e-01, -9.30031955e-01, -2.18556911e-01,\n",
              "        -2.10913315e-01,  6.68300986e-01,  5.24467349e-01,\n",
              "         8.54787290e-01,  2.45316669e-01, -4.08218592e-01,\n",
              "        -4.28361744e-01,  1.08730890e-01, -5.56630075e-01,\n",
              "        -9.91634429e-01,  3.88865292e-01,  9.88388211e-02,\n",
              "        -9.14604306e-01,  9.55700278e-01, -4.75249320e-01,\n",
              "        -1.00425102e-01,  5.18454313e-01, -1.21389426e-01,\n",
              "         8.42032075e-01,  6.95982933e-01,  3.52925628e-01,\n",
              "         3.39886844e-02,  4.46858823e-01,  8.46186697e-01,\n",
              "         8.99994314e-01,  9.86174464e-01, -2.87267298e-01,\n",
              "         6.76598370e-01, -4.87984270e-02,  2.25814477e-01,\n",
              "         6.98605835e-01, -9.22743142e-01,  7.62516707e-02,\n",
              "         7.31219798e-02, -6.59077242e-02,  1.32281691e-01,\n",
              "        -1.43066913e-01, -9.18244302e-01,  3.07942718e-01,\n",
              "        -1.67991191e-01,  4.97017413e-01, -2.55561203e-01,\n",
              "         1.78504750e-01, -3.20922554e-01, -9.07576904e-02,\n",
              "        -6.31711662e-01, -3.29307467e-01,  5.99472344e-01,\n",
              "         4.32593644e-01,  9.07551944e-01,  5.39678693e-01,\n",
              "         2.89925151e-02, -5.25397480e-01,  3.63671184e-02,\n",
              "        -1.24511659e-01, -9.21139538e-01,  8.54187965e-01,\n",
              "         5.76792508e-02,  2.50930220e-01,  3.78173143e-01,\n",
              "        -7.09967911e-02,  7.02606082e-01, -2.18992710e-01,\n",
              "        -2.37555161e-01, -1.66668847e-01, -7.32088804e-01,\n",
              "         7.95341790e-01, -4.98736143e-01, -4.32206184e-01,\n",
              "        -4.34152603e-01,  6.10594451e-01,  2.26626247e-01,\n",
              "         9.95863676e-01, -1.73204660e-01, -3.15376759e-01,\n",
              "        -2.83347845e-01, -1.78235516e-01,  3.14643800e-01,\n",
              "        -2.83425540e-01, -9.99998927e-01,  2.28531510e-01,\n",
              "         7.52944127e-02,  2.68399417e-01, -7.61861876e-02,\n",
              "         3.05104643e-01,  6.12038514e-03, -9.46073949e-01,\n",
              "        -1.82602972e-01,  3.34041357e-01,  1.03839740e-01,\n",
              "        -4.42963332e-01, -2.03177959e-01,  4.88528490e-01,\n",
              "         5.36935747e-01,  6.45093977e-01,  8.30610275e-01,\n",
              "         1.06490910e-01,  5.39806306e-01,  5.46401441e-01,\n",
              "        -2.71234632e-01, -5.71045697e-01,  8.78060162e-01]], dtype=float32)>"
            ]
          },
          "metadata": {},
          "execution_count": 14
        }
      ]
    },
    {
      "cell_type": "markdown",
      "source": [
        "## Model"
      ],
      "metadata": {
        "id": "p87ahVhiPkRs"
      }
    },
    {
      "cell_type": "code",
      "source": [
        "# Bert layer\n",
        "\n",
        "text_input = tf.keras.layers.Input(shape = (), dtype = tf.string, name = 'text_input')\n",
        "preprocessed = bert_preprocessor(text_input)\n",
        "embed_output = bert_encoder(preprocessed) # 768 dimensional embedding\n",
        "\n",
        "# Dense layers\n",
        "\n",
        "layer = tf.keras.layers.Dropout(0.2, name = 'dropout')(embed_output['pooled_output'])\n",
        "final = tf.keras.layers.Dense(1, activation = 'sigmoid', )(layer)\n",
        "\n",
        "#Model\n",
        "\n",
        "model = tf.keras.Model(inputs = [text_input], outputs = [final])"
      ],
      "metadata": {
        "id": "4ttfv_XyPY5-"
      },
      "execution_count": null,
      "outputs": []
    },
    {
      "cell_type": "code",
      "source": [
        "model.summary()"
      ],
      "metadata": {
        "colab": {
          "base_uri": "https://localhost:8080/"
        },
        "id": "74RDlAobRM3K",
        "outputId": "ddcae102-8ad6-4a7c-c6bd-e8722b1ebcc7"
      },
      "execution_count": null,
      "outputs": [
        {
          "output_type": "stream",
          "name": "stdout",
          "text": [
            "Model: \"model_1\"\n",
            "__________________________________________________________________________________________________\n",
            " Layer (type)                   Output Shape         Param #     Connected to                     \n",
            "==================================================================================================\n",
            " text_input (InputLayer)        [(None,)]            0           []                               \n",
            "                                                                                                  \n",
            " keras_layer (KerasLayer)       {'input_type_ids':   0           ['text_input[0][0]']             \n",
            "                                (None, 128),                                                      \n",
            "                                 'input_word_ids':                                                \n",
            "                                (None, 128),                                                      \n",
            "                                 'input_mask': (Non                                               \n",
            "                                e, 128)}                                                          \n",
            "                                                                                                  \n",
            " keras_layer_1 (KerasLayer)     {'sequence_output':  109482241   ['keras_layer[2][0]',            \n",
            "                                 (None, 128, 768),                'keras_layer[2][1]',            \n",
            "                                 'pooled_output': (               'keras_layer[2][2]']            \n",
            "                                None, 768),                                                       \n",
            "                                 'encoder_outputs':                                               \n",
            "                                 [(None, 128, 768),                                               \n",
            "                                 (None, 128, 768),                                                \n",
            "                                 (None, 128, 768),                                                \n",
            "                                 (None, 128, 768),                                                \n",
            "                                 (None, 128, 768),                                                \n",
            "                                 (None, 128, 768),                                                \n",
            "                                 (None, 128, 768),                                                \n",
            "                                 (None, 128, 768),                                                \n",
            "                                 (None, 128, 768),                                                \n",
            "                                 (None, 128, 768),                                                \n",
            "                                 (None, 128, 768),                                                \n",
            "                                 (None, 128, 768)],                                               \n",
            "                                 'default': (None,                                                \n",
            "                                768)}                                                             \n",
            "                                                                                                  \n",
            " dropout (Dropout)              (None, 768)          0           ['keras_layer_1[2][13]']         \n",
            "                                                                                                  \n",
            " dense_1 (Dense)                (None, 1)            769         ['dropout[0][0]']                \n",
            "                                                                                                  \n",
            "==================================================================================================\n",
            "Total params: 109,483,010\n",
            "Trainable params: 769\n",
            "Non-trainable params: 109,482,241\n",
            "__________________________________________________________________________________________________\n"
          ]
        }
      ]
    },
    {
      "cell_type": "markdown",
      "source": [
        "## Training"
      ],
      "metadata": {
        "id": "RLGLlW-LRiPS"
      }
    },
    {
      "cell_type": "code",
      "source": [
        "METRICS = [\n",
        "    tf.keras.metrics.BinaryAccuracy(name = 'accuracy'),\n",
        "    tf.keras.metrics.Precision(name = 'precision'),\n",
        "    tf.keras.metrics.Recall(name = 'recall')\n",
        "]\n",
        "\n",
        "model.compile(\n",
        "    optimizer = 'adam',\n",
        "    loss = 'binary_crossentropy',\n",
        "    metrics = METRICS\n",
        ")"
      ],
      "metadata": {
        "id": "yIUCP2u6RVJy"
      },
      "execution_count": null,
      "outputs": []
    },
    {
      "cell_type": "code",
      "source": [
        "history = model.fit(X_train, y_train, epochs = 15, batch_size = 60)"
      ],
      "metadata": {
        "colab": {
          "base_uri": "https://localhost:8080/"
        },
        "id": "-zRhIDc7SE_M",
        "outputId": "fde25f23-8659-419b-c033-d10b19060dc8"
      },
      "execution_count": null,
      "outputs": [
        {
          "output_type": "stream",
          "name": "stdout",
          "text": [
            "Epoch 1/15\n",
            "19/19 [==============================] - 14s 630ms/step - loss: 0.2367 - accuracy: 0.9187 - precision: 0.9121 - recall: 0.9268\n",
            "Epoch 2/15\n",
            "19/19 [==============================] - 12s 650ms/step - loss: 0.2373 - accuracy: 0.9179 - precision: 0.9077 - recall: 0.9304\n",
            "Epoch 3/15\n",
            "19/19 [==============================] - 12s 649ms/step - loss: 0.2263 - accuracy: 0.9295 - precision: 0.9257 - recall: 0.9339\n",
            "Epoch 4/15\n",
            "19/19 [==============================] - 13s 669ms/step - loss: 0.2212 - accuracy: 0.9295 - precision: 0.9287 - recall: 0.9304\n",
            "Epoch 5/15\n",
            "19/19 [==============================] - 12s 626ms/step - loss: 0.2239 - accuracy: 0.9295 - precision: 0.9257 - recall: 0.9339\n",
            "Epoch 6/15\n",
            "19/19 [==============================] - 12s 623ms/step - loss: 0.2250 - accuracy: 0.9205 - precision: 0.9153 - recall: 0.9268\n",
            "Epoch 7/15\n",
            "19/19 [==============================] - 12s 623ms/step - loss: 0.2152 - accuracy: 0.9321 - precision: 0.9246 - recall: 0.9411\n",
            "Epoch 8/15\n",
            "19/19 [==============================] - 12s 628ms/step - loss: 0.2225 - accuracy: 0.9232 - precision: 0.9232 - recall: 0.9232\n",
            "Epoch 9/15\n",
            "19/19 [==============================] - 12s 633ms/step - loss: 0.2160 - accuracy: 0.9259 - precision: 0.9192 - recall: 0.9339\n",
            "Epoch 10/15\n",
            "19/19 [==============================] - 12s 632ms/step - loss: 0.2216 - accuracy: 0.9268 - precision: 0.9238 - recall: 0.9304\n",
            "Epoch 11/15\n",
            "19/19 [==============================] - 12s 630ms/step - loss: 0.2101 - accuracy: 0.9348 - precision: 0.9340 - recall: 0.9357\n",
            "Epoch 12/15\n",
            "19/19 [==============================] - 12s 629ms/step - loss: 0.2111 - accuracy: 0.9277 - precision: 0.9239 - recall: 0.9321\n",
            "Epoch 13/15\n",
            "19/19 [==============================] - 12s 626ms/step - loss: 0.2088 - accuracy: 0.9330 - precision: 0.9307 - recall: 0.9357\n",
            "Epoch 14/15\n",
            "19/19 [==============================] - 12s 628ms/step - loss: 0.2063 - accuracy: 0.9241 - precision: 0.9218 - recall: 0.9268\n",
            "Epoch 15/15\n",
            "19/19 [==============================] - 12s 629ms/step - loss: 0.2069 - accuracy: 0.9304 - precision: 0.9199 - recall: 0.9429\n"
          ]
        }
      ]
    },
    {
      "cell_type": "code",
      "source": [
        "print(history.history.keys())"
      ],
      "metadata": {
        "colab": {
          "base_uri": "https://localhost:8080/"
        },
        "id": "DAKmCXjnSR2U",
        "outputId": "73eb19a1-d344-43dd-ac3b-801525eda33c"
      },
      "execution_count": null,
      "outputs": [
        {
          "output_type": "stream",
          "name": "stdout",
          "text": [
            "dict_keys(['loss', 'accuracy', 'precision', 'recall'])\n"
          ]
        }
      ]
    },
    {
      "cell_type": "code",
      "source": [
        "import matplotlib.pyplot as plt\n",
        "plt.plot(history.history['accuracy'])\n"
      ],
      "metadata": {
        "colab": {
          "base_uri": "https://localhost:8080/",
          "height": 282
        },
        "id": "0QUmBxYrUVCw",
        "outputId": "85928d8a-aa84-4ac0-c0ae-a09263f83429"
      },
      "execution_count": null,
      "outputs": [
        {
          "output_type": "execute_result",
          "data": {
            "text/plain": [
              "[<matplotlib.lines.Line2D at 0x7f1dd07c8610>]"
            ]
          },
          "metadata": {},
          "execution_count": 27
        },
        {
          "output_type": "display_data",
          "data": {
            "text/plain": [
              "<Figure size 432x288 with 1 Axes>"
            ],
            "image/png": "[encoded data removed]"
          },
          "metadata": {
            "needs_background": "light"
          }
        }
      ]
    },
    {
      "cell_type": "code",
      "source": [
        "plt.plot(history.history['loss'])"
      ],
      "metadata": {
        "colab": {
          "base_uri": "https://localhost:8080/",
          "height": 282
        },
        "id": "cL76xImkUo6z",
        "outputId": "d1a589bb-1081-4843-be3c-ff88d4273cf7"
      },
      "execution_count": null,
      "outputs": [
        {
          "output_type": "execute_result",
          "data": {
            "text/plain": [
              "[<matplotlib.lines.Line2D at 0x7f1dd073ad50>]"
            ]
          },
          "metadata": {},
          "execution_count": 28
        },
        {
          "output_type": "display_data",
          "data": {
            "text/plain": [
              "<Figure size 432x288 with 1 Axes>"
            ],
            "image/png": "[encoded data removed]"
          },
          "metadata": {
            "needs_background": "light"
          }
        }
      ]
    },
    {
      "cell_type": "code",
      "source": [
        "model.evaluate(X_test, y_test)"
      ],
      "metadata": {
        "colab": {
          "base_uri": "https://localhost:8080/"
        },
        "id": "H9IXjho5U57f",
        "outputId": "efd8a488-6942-4397-e55a-c43cce63290e"
      },
      "execution_count": null,
      "outputs": [
        {
          "output_type": "stream",
          "name": "stdout",
          "text": [
            "12/12 [==============================] - 5s 326ms/step - loss: 0.1983 - accuracy: 0.9412 - precision: 0.9661 - recall: 0.9144\n"
          ]
        },
        {
          "output_type": "execute_result",
          "data": {
            "text/plain": [
              "[0.19832202792167664,\n",
              " 0.9411764740943909,\n",
              " 0.9661017060279846,\n",
              " 0.9144384860992432]"
            ]
          },
          "metadata": {},
          "execution_count": 29
        }
      ]
    },
    {
      "cell_type": "code",
      "source": [
        "y_predicted = model.predict(X_test)\n",
        "y_predicted = y_predicted.flatten()\n",
        "y_predicted.shape"
      ],
      "metadata": {
        "colab": {
          "base_uri": "https://localhost:8080/"
        },
        "id": "u3Zx2cOCVGy1",
        "outputId": "7820affe-c7fc-43f5-f244-dfb2bd3c98d6"
      },
      "execution_count": null,
      "outputs": [
        {
          "output_type": "stream",
          "name": "stdout",
          "text": [
            "12/12 [==============================] - 4s 334ms/step\n"
          ]
        },
        {
          "output_type": "execute_result",
          "data": {
            "text/plain": [
              "(374,)"
            ]
          },
          "metadata": {},
          "execution_count": 31
        }
      ]
    },
    {
      "cell_type": "code",
      "source": [
        "y_predicted_label = np.where(y_predicted > 0.5, 1, 0)\n",
        "y_predicted_label"
      ],
      "metadata": {
        "colab": {
          "base_uri": "https://localhost:8080/"
        },
        "id": "Eny0CT4QVbDa",
        "outputId": "18ec5bde-9136-48f6-e5cd-59c98899c0f8"
      },
      "execution_count": null,
      "outputs": [
        {
          "output_type": "execute_result",
          "data": {
            "text/plain": [
              "array([0, 1, 1, 0, 0, 0, 1, 1, 0, 1, 0, 0, 0, 0, 1, 1, 1, 0, 0, 1, 1, 0,\n",
              "       1, 0, 1, 1, 0, 1, 1, 0, 0, 1, 1, 0, 0, 1, 1, 0, 0, 0, 1, 0, 1, 0,\n",
              "       0, 0, 0, 1, 1, 0, 1, 1, 0, 0, 0, 0, 0, 1, 0, 0, 1, 1, 1, 1, 0, 1,\n",
              "       1, 0, 1, 1, 1, 1, 0, 0, 0, 1, 0, 1, 0, 0, 1, 0, 1, 0, 0, 1, 1, 1,\n",
              "       0, 0, 1, 1, 1, 1, 0, 1, 1, 0, 1, 1, 0, 0, 0, 1, 0, 1, 0, 0, 1, 1,\n",
              "       1, 1, 0, 0, 0, 1, 0, 0, 0, 1, 1, 0, 0, 0, 0, 1, 0, 0, 0, 0, 0, 1,\n",
              "       0, 0, 1, 1, 0, 0, 1, 0, 0, 0, 0, 0, 1, 0, 0, 1, 0, 1, 0, 1, 1, 0,\n",
              "       1, 0, 0, 1, 0, 1, 0, 0, 1, 1, 1, 1, 1, 1, 0, 1, 1, 0, 1, 0, 1, 1,\n",
              "       0, 1, 0, 0, 1, 1, 0, 0, 1, 0, 0, 1, 1, 1, 0, 1, 1, 1, 0, 1, 0, 1,\n",
              "       1, 1, 1, 1, 0, 0, 1, 0, 0, 0, 0, 1, 0, 0, 1, 1, 1, 0, 1, 0, 1, 0,\n",
              "       0, 1, 0, 1, 0, 0, 0, 0, 1, 0, 0, 1, 0, 0, 1, 1, 0, 0, 1, 1, 0, 0,\n",
              "       1, 0, 1, 0, 1, 1, 0, 1, 1, 0, 0, 1, 0, 0, 0, 1, 1, 1, 1, 0, 1, 1,\n",
              "       1, 1, 0, 1, 0, 0, 1, 1, 1, 0, 0, 0, 1, 0, 1, 0, 0, 1, 0, 1, 0, 1,\n",
              "       1, 1, 0, 1, 1, 1, 1, 0, 0, 1, 1, 0, 1, 1, 0, 1, 0, 1, 0, 0, 0, 0,\n",
              "       1, 0, 1, 1, 0, 0, 1, 0, 1, 1, 0, 1, 0, 1, 1, 1, 1, 0, 0, 0, 0, 0,\n",
              "       0, 1, 0, 0, 0, 0, 0, 1, 1, 0, 1, 0, 1, 0, 0, 0, 0, 0, 0, 0, 0, 0,\n",
              "       0, 1, 1, 1, 0, 0, 0, 1, 1, 1, 1, 0, 0, 0, 0, 1, 0, 0, 1, 1, 0, 0])"
            ]
          },
          "metadata": {},
          "execution_count": 32
        }
      ]
    },
    {
      "cell_type": "code",
      "source": [],
      "metadata": {
        "colab": {
          "base_uri": "https://localhost:8080/"
        },
        "id": "eaF4sBDzW_zL",
        "outputId": "cd9f207b-d00f-4c5a-89bc-6dc6b2872d35"
      },
      "execution_count": null,
      "outputs": [
        {
          "output_type": "execute_result",
          "data": {
            "text/plain": [
              "numpy.float32"
            ]
          },
          "metadata": {},
          "execution_count": 45
        }
      ]
    },
    {
      "cell_type": "code",
      "source": [
        "from sklearn.metrics import confusion_matrix, classification_report\n",
        "\n",
        "cm =confusion_matrix(y_test, y_predicted_label)\n",
        "cr = classification_report(y_test, y_predicted_label)\n",
        "print(cm, cr)"
      ],
      "metadata": {
        "colab": {
          "base_uri": "https://localhost:8080/"
        },
        "id": "Li34xPeiV3vq",
        "outputId": "365d12cc-9750-425f-af89-b3ad7bb6a990"
      },
      "execution_count": null,
      "outputs": [
        {
          "output_type": "stream",
          "name": "stdout",
          "text": [
            "[[181   6]\n",
            " [ 16 171]]               precision    recall  f1-score   support\n",
            "\n",
            "           0       0.92      0.97      0.94       187\n",
            "           1       0.97      0.91      0.94       187\n",
            "\n",
            "    accuracy                           0.94       374\n",
            "   macro avg       0.94      0.94      0.94       374\n",
            "weighted avg       0.94      0.94      0.94       374\n",
            "\n"
          ]
        }
      ]
    },
    {
      "cell_type": "code",
      "source": [
        "emails= [\"Win Cash Prize upto 1 Crore, Hurry Up offer valid upto 31st December\",\n",
        "         \"I will be an Applied Scientist\",\n",
        "         \"India will win World Cup 2022\",\n",
        "         \"Buy this Lottery and win cashback upto 1M dollar\",\n",
        "         \"Subscribe to our channel to get notifications about our latest newsletter and get updated\"]\n",
        "model.predict(emails)"
      ],
      "metadata": {
        "colab": {
          "base_uri": "https://localhost:8080/"
        },
        "id": "vI_WOk30V73A",
        "outputId": "3a17699c-ec6f-49be-aab8-77249e271785"
      },
      "execution_count": null,
      "outputs": [
        {
          "output_type": "stream",
          "name": "stdout",
          "text": [
            "1/1 [==============================] - 0s 80ms/step\n"
          ]
        },
        {
          "output_type": "execute_result",
          "data": {
            "text/plain": [
              "array([[0.6337401 ],\n",
              "       [0.03973977],\n",
              "       [0.35604286],\n",
              "       [0.88010573],\n",
              "       [0.4051409 ]], dtype=float32)"
            ]
          },
          "metadata": {},
          "execution_count": 50
        }
      ]
    },
    {
      "cell_type": "code",
      "source": [],
      "metadata": {
        "id": "PbkWkXD8X7vS"
      },
      "execution_count": null,
      "outputs": []
    }
  ],
  "metadata": {
    "accelerator": "GPU",
    "colab": {
      "provenance": []
    },
    "gpuClass": "standard",
    "kernelspec": {
      "display_name": "Python 3",
      "name": "python3"
    },
    "language_info": {
      "name": "python"
    }
  },
  "nbformat": 4,
  "nbformat_minor": 0
}